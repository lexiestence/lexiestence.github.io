{
 "cells": [
  {
   "cell_type": "code",
   "execution_count": 1,
   "metadata": {},
   "outputs": [],
   "source": [
    "import pandas as pd\n",
    "import matplotlib.pyplot as plt\n",
    "df = pd.read_csv('data/meteorites.csv')     #importing the dataset into a pandas dataframe\n",
    "df = df.reset_index()   #weird bugs sometimes happen without this"
   ]
  },
  {
   "cell_type": "code",
   "execution_count": 2,
   "metadata": {},
   "outputs": [
    {
     "data": {
      "text/html": [
       "<div>\n",
       "<style scoped>\n",
       "    .dataframe tbody tr th:only-of-type {\n",
       "        vertical-align: middle;\n",
       "    }\n",
       "\n",
       "    .dataframe tbody tr th {\n",
       "        vertical-align: top;\n",
       "    }\n",
       "\n",
       "    .dataframe thead th {\n",
       "        text-align: right;\n",
       "    }\n",
       "</style>\n",
       "<table border=\"1\" class=\"dataframe\">\n",
       "  <thead>\n",
       "    <tr style=\"text-align: right;\">\n",
       "      <th></th>\n",
       "      <th>index</th>\n",
       "      <th>name</th>\n",
       "      <th>id</th>\n",
       "      <th>name_type</th>\n",
       "      <th>class</th>\n",
       "      <th>mass</th>\n",
       "      <th>fall</th>\n",
       "      <th>year</th>\n",
       "      <th>lat</th>\n",
       "      <th>long</th>\n",
       "      <th>geolocation</th>\n",
       "    </tr>\n",
       "  </thead>\n",
       "  <tbody>\n",
       "    <tr>\n",
       "      <th>0</th>\n",
       "      <td>0</td>\n",
       "      <td>Aachen</td>\n",
       "      <td>1</td>\n",
       "      <td>Valid</td>\n",
       "      <td>L5</td>\n",
       "      <td>21.0</td>\n",
       "      <td>Fell</td>\n",
       "      <td>1880.0</td>\n",
       "      <td>50.77500</td>\n",
       "      <td>6.08333</td>\n",
       "      <td>(50.775, 6.08333)</td>\n",
       "    </tr>\n",
       "    <tr>\n",
       "      <th>1</th>\n",
       "      <td>1</td>\n",
       "      <td>Aarhus</td>\n",
       "      <td>2</td>\n",
       "      <td>Valid</td>\n",
       "      <td>H6</td>\n",
       "      <td>720.0</td>\n",
       "      <td>Fell</td>\n",
       "      <td>1951.0</td>\n",
       "      <td>56.18333</td>\n",
       "      <td>10.23333</td>\n",
       "      <td>(56.18333, 10.23333)</td>\n",
       "    </tr>\n",
       "    <tr>\n",
       "      <th>2</th>\n",
       "      <td>2</td>\n",
       "      <td>Abee</td>\n",
       "      <td>6</td>\n",
       "      <td>Valid</td>\n",
       "      <td>EH4</td>\n",
       "      <td>107000.0</td>\n",
       "      <td>Fell</td>\n",
       "      <td>1952.0</td>\n",
       "      <td>54.21667</td>\n",
       "      <td>-113.00000</td>\n",
       "      <td>(54.21667, -113.0)</td>\n",
       "    </tr>\n",
       "    <tr>\n",
       "      <th>3</th>\n",
       "      <td>3</td>\n",
       "      <td>Acapulco</td>\n",
       "      <td>10</td>\n",
       "      <td>Valid</td>\n",
       "      <td>Acapulcoite</td>\n",
       "      <td>1914.0</td>\n",
       "      <td>Fell</td>\n",
       "      <td>1976.0</td>\n",
       "      <td>16.88333</td>\n",
       "      <td>-99.90000</td>\n",
       "      <td>(16.88333, -99.9)</td>\n",
       "    </tr>\n",
       "    <tr>\n",
       "      <th>4</th>\n",
       "      <td>4</td>\n",
       "      <td>Achiras</td>\n",
       "      <td>370</td>\n",
       "      <td>Valid</td>\n",
       "      <td>L6</td>\n",
       "      <td>780.0</td>\n",
       "      <td>Fell</td>\n",
       "      <td>1902.0</td>\n",
       "      <td>-33.16667</td>\n",
       "      <td>-64.95000</td>\n",
       "      <td>(-33.16667, -64.95)</td>\n",
       "    </tr>\n",
       "  </tbody>\n",
       "</table>\n",
       "</div>"
      ],
      "text/plain": [
       "   index      name   id name_type        class      mass  fall    year  \\\n",
       "0      0    Aachen    1     Valid           L5      21.0  Fell  1880.0   \n",
       "1      1    Aarhus    2     Valid           H6     720.0  Fell  1951.0   \n",
       "2      2      Abee    6     Valid          EH4  107000.0  Fell  1952.0   \n",
       "3      3  Acapulco   10     Valid  Acapulcoite    1914.0  Fell  1976.0   \n",
       "4      4   Achiras  370     Valid           L6     780.0  Fell  1902.0   \n",
       "\n",
       "        lat       long           geolocation  \n",
       "0  50.77500    6.08333     (50.775, 6.08333)  \n",
       "1  56.18333   10.23333  (56.18333, 10.23333)  \n",
       "2  54.21667 -113.00000    (54.21667, -113.0)  \n",
       "3  16.88333  -99.90000     (16.88333, -99.9)  \n",
       "4 -33.16667  -64.95000   (-33.16667, -64.95)  "
      ]
     },
     "execution_count": 2,
     "metadata": {},
     "output_type": "execute_result"
    }
   ],
   "source": [
    "df.head()       #prints the first five rows of the dataframe"
   ]
  },
  {
   "cell_type": "code",
   "execution_count": 3,
   "metadata": {},
   "outputs": [],
   "source": [
    "df = df.drop(df[df.year<1000].index)"
   ]
  },
  {
   "cell_type": "code",
   "execution_count": 4,
   "metadata": {},
   "outputs": [
    {
     "data": {
      "text/plain": [
       "1399.0"
      ]
     },
     "execution_count": 4,
     "metadata": {},
     "output_type": "execute_result"
    }
   ],
   "source": [
    "df.year.min()"
   ]
  },
  {
   "cell_type": "code",
   "execution_count": 5,
   "metadata": {},
   "outputs": [
    {
     "data": {
      "text/html": [
       "<div>\n",
       "<style scoped>\n",
       "    .dataframe tbody tr th:only-of-type {\n",
       "        vertical-align: middle;\n",
       "    }\n",
       "\n",
       "    .dataframe tbody tr th {\n",
       "        vertical-align: top;\n",
       "    }\n",
       "\n",
       "    .dataframe thead th {\n",
       "        text-align: right;\n",
       "    }\n",
       "</style>\n",
       "<table border=\"1\" class=\"dataframe\">\n",
       "  <thead>\n",
       "    <tr style=\"text-align: right;\">\n",
       "      <th></th>\n",
       "      <th>index</th>\n",
       "      <th>name</th>\n",
       "      <th>id</th>\n",
       "      <th>name_type</th>\n",
       "      <th>class</th>\n",
       "      <th>mass</th>\n",
       "      <th>fall</th>\n",
       "      <th>year</th>\n",
       "      <th>lat</th>\n",
       "      <th>long</th>\n",
       "      <th>geolocation</th>\n",
       "    </tr>\n",
       "  </thead>\n",
       "  <tbody>\n",
       "    <tr>\n",
       "      <th>5074</th>\n",
       "      <td>5074</td>\n",
       "      <td>Belle Plaine</td>\n",
       "      <td>5004</td>\n",
       "      <td>Valid</td>\n",
       "      <td>L6</td>\n",
       "      <td>78800.0</td>\n",
       "      <td>Found</td>\n",
       "      <td>1950.0</td>\n",
       "      <td>37.31667</td>\n",
       "      <td>-97.25</td>\n",
       "      <td>(37.31667, -97.25)</td>\n",
       "    </tr>\n",
       "    <tr>\n",
       "      <th>37797</th>\n",
       "      <td>37797</td>\n",
       "      <td>Tambo Quemado</td>\n",
       "      <td>23797</td>\n",
       "      <td>Valid</td>\n",
       "      <td>Iron, IIIAB</td>\n",
       "      <td>141000.0</td>\n",
       "      <td>Found</td>\n",
       "      <td>1950.0</td>\n",
       "      <td>-14.66667</td>\n",
       "      <td>-74.50</td>\n",
       "      <td>(-14.66667, -74.5)</td>\n",
       "    </tr>\n",
       "  </tbody>\n",
       "</table>\n",
       "</div>"
      ],
      "text/plain": [
       "       index           name     id name_type        class      mass   fall  \\\n",
       "5074    5074   Belle Plaine   5004     Valid           L6   78800.0  Found   \n",
       "37797  37797  Tambo Quemado  23797     Valid  Iron, IIIAB  141000.0  Found   \n",
       "\n",
       "         year       lat   long         geolocation  \n",
       "5074   1950.0  37.31667 -97.25  (37.31667, -97.25)  \n",
       "37797  1950.0 -14.66667 -74.50  (-14.66667, -74.5)  "
      ]
     },
     "execution_count": 5,
     "metadata": {},
     "output_type": "execute_result"
    }
   ],
   "source": [
    "BigChonksIn1950 = df[(df.year==1950) & (df.mass>50000)]       #creating a new dataframe based on a querry ran on the main dataset\n",
    "BigChonksIn1950.head()"
   ]
  },
  {
   "cell_type": "code",
   "execution_count": 6,
   "metadata": {},
   "outputs": [
    {
     "name": "stdout",
     "output_type": "stream",
     "text": [
      "78800.0\n",
      "141000.0\n"
     ]
    }
   ],
   "source": [
    "for index, row in BigChonksIn1950.iterrows():       #iterating over every row of a dataframe\n",
    "    print(row.mass)"
   ]
  },
  {
   "cell_type": "code",
   "execution_count": 7,
   "metadata": {},
   "outputs": [
    {
     "name": "stdout",
     "output_type": "stream",
     "text": [
      "12600.0\n",
      "10800.0\n",
      "10400.0\n",
      "78800.0\n",
      "11300.0\n",
      "27000.0\n",
      "141000.0\n"
     ]
    }
   ],
   "source": [
    "\n",
    "for index, row in df[(df.year==1950) & (df.mass>10000)].iterrows():       #iterating over every row of the result of a querry ran on a dataframe\n",
    "    print(row.mass)"
   ]
  },
  {
   "cell_type": "code",
   "execution_count": 8,
   "metadata": {},
   "outputs": [
    {
     "data": {
      "image/png": "[encoded data removed]",
      "text/plain": [
       "<Figure size 640x480 with 1 Axes>"
      ]
     },
     "metadata": {},
     "output_type": "display_data"
    }
   ],
   "source": [
    "from importlib import reload\n",
    "plt=reload(plt)\n",
    "\n",
    "meteoritesIn1940 = []\n",
    "plotIndex = []\n",
    "i = 1\n",
    "for index, row in df[(df.year==1940)].iterrows():\n",
    "    meteoritesIn1940.append(row.mass)\n",
    "    plotIndex.append(i)\n",
    "    i+=1\n",
    "\n",
    "plt.bar(plotIndex, meteoritesIn1940)\n",
    "plt.title(\"meteorites in 1940\")\n",
    "plt.yscale(\"log\")\n",
    "plt.xlabel(\"meteorite no.\") \n",
    "plt.ylabel(\"mass\")\n",
    "plt.show()"
   ]
  },
  {
   "cell_type": "code",
   "execution_count": 9,
   "metadata": {},
   "outputs": [
    {
     "data": {
      "image/png": "[encoded data removed]",
      "text/plain": [
       "<Figure size 640x480 with 1 Axes>"
      ]
     },
     "metadata": {},
     "output_type": "display_data"
    }
   ],
   "source": [
    "\n",
    "x = [1,2,3]\n",
    "y = [1,2,3]\n",
    "plt.plot(x,y)\n",
    "plt.show()"
   ]
  }
 ],
 "metadata": {
  "kernelspec": {
   "display_name": "base",
   "language": "python",
   "name": "python3"
  },
  "language_info": {
   "codemirror_mode": {
    "name": "ipython",
    "version": 3
   },
   "file_extension": ".py",
   "mimetype": "text/x-python",
   "name": "python",
   "nbconvert_exporter": "python",
   "pygments_lexer": "ipython3",
   "version": "3.11.5"
  }
 },
 "nbformat": 4,
 "nbformat_minor": 2
}
