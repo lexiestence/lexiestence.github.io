{
 "cells": [
  {
   "cell_type": "code",
   "execution_count": 3,
   "metadata": {},
   "outputs": [],
   "source": [
    "#importing necessary dependencies\n",
    "\n",
    "import pandas as pd\n",
    "import matplotlib.pyplot as plt\n",
    "from importlib import reload\n",
    "\n",
    "#importing the dataset into a pandas dataframe\n",
    "\n",
    "df = pd.read_csv('data/meteorites.csv')     \n",
    "df = df.reset_index()   #weird bugs sometimes happen without this\n",
    "\n",
    "df = df.drop(df[df.year<1000].index) #removing every entery from before year 1000\n",
    "\n",
    "#defining boundaries of the set\n",
    "\n",
    "df.earliest = df.year.min()\n",
    "df.latest = df.year.max()\n",
    "\n"
   ]
  }
 ],
 "metadata": {
  "kernelspec": {
   "display_name": "base",
   "language": "python",
   "name": "python3"
  },
  "language_info": {
   "codemirror_mode": {
    "name": "ipython",
    "version": 3
   },
   "file_extension": ".py",
   "mimetype": "text/x-python",
   "name": "python",
   "nbconvert_exporter": "python",
   "pygments_lexer": "ipython3",
   "version": "3.11.5"
  }
 },
 "nbformat": 4,
 "nbformat_minor": 2
}
