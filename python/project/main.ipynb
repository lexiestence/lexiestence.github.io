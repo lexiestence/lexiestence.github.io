{
 "cells": [
  {
   "cell_type": "markdown",
   "metadata": {},
   "source": [
    "### Annual matter of extraterrestial origin arriving to earth through meteorites in 20th century"
   ]
  },
  {
   "cell_type": "markdown",
   "metadata": {},
   "source": [
    "Goal of the project:\n",
    "* acquiring a dataset\n",
    "* deciding which data from the dataset to include\n",
    "* learning the fundamentals of data processing and visualisation in python\n",
    "\n",
    "To achieve this goal a specific task has been defined:\n",
    "* develop a python program that will proces the dataset of meteorites recorded by NASA and summarise the total mass of the meteorites that fell on earth throughought 20th century"
   ]
  },
  {
   "cell_type": "markdown",
   "metadata": {},
   "source": [
    "___"
   ]
  },
  {
   "cell_type": "markdown",
   "metadata": {},
   "source": [
    "The project starts by importing all necessary functions and packages, namely:\n",
    "* ```pandas``` for importing and handling data\n",
    "* ```pyplot``` from ```matplotlib``` for drawing charts\n",
    "* ```reload``` from ```importlib``` to ensure that—where necessary—code will be executed without being affected by prior attempts at running it\n",
    "\n",
    "Aliases are used for ease of writing code."
   ]
  },
  {
   "cell_type": "code",
   "execution_count": 4,
   "metadata": {},
   "outputs": [],
   "source": [
    "#importing necessary dependencies\n",
    "\n",
    "import pandas as pd\n",
    "import matplotlib.pyplot as plt\n",
    "from importlib import reload"
   ]
  },
  {
   "cell_type": "markdown",
   "metadata": {},
   "source": [
    "Using ```dataframe``` data structure provided by ```pandas``` library allows for easy and efficient processing of datasets. Since the data is provided in ```.csv``` format, ```pandas``` allows to easily import it into a ```dataframe``` through use of ```read_csv()``` function."
   ]
  },
  {
   "cell_type": "code",
   "execution_count": null,
   "metadata": {},
   "outputs": [],
   "source": [
    "#importing the dataset into a pandas dataframe\n",
    "\n",
    "df = pd.read_csv('data/meteorites.csv')     \n",
    "df = df.reset_index()   #weird bugs sometimes happen without this"
   ]
  },
  {
   "cell_type": "markdown",
   "metadata": {},
   "source": [
    "Since the original dataset contains data from scope larger than what's necessary for execution of the task, all rows (as signified by using the suffix ```.index```) from before year 1900 and after year 1999 are removed from the ```dataframe```."
   ]
  },
  {
   "cell_type": "code",
   "execution_count": null,
   "metadata": {},
   "outputs": [],
   "source": [
    "df = df.drop(df[(df.year<1900) | (df.year>1999) ].index)"
   ]
  },
  {
   "cell_type": "markdown",
   "metadata": {},
   "source": [
    "For later use the lowest and highest values for ```year``` in the newly truncated dataset are stored as variables."
   ]
  },
  {
   "cell_type": "code",
   "execution_count": null,
   "metadata": {},
   "outputs": [],
   "source": [
    "#defining boundaries of the set\n",
    "\n",
    "earliest = df.year.min()\n",
    "latest = df.year.max()"
   ]
  },
  {
   "cell_type": "code",
   "execution_count": null,
   "metadata": {},
   "outputs": [],
   "source": [
    "#logic goes here"
   ]
  },
  {
   "cell_type": "markdown",
   "metadata": {},
   "source": [
    "Source of data: [NASA Meteorites Dataset at kaggle.com](https://www.kaggle.com/datasets/sujaykapadnis/meteorites-dataset)"
   ]
  }
 ],
 "metadata": {
  "kernelspec": {
   "display_name": "base",
   "language": "python",
   "name": "python3"
  },
  "language_info": {
   "codemirror_mode": {
    "name": "ipython",
    "version": 3
   },
   "file_extension": ".py",
   "mimetype": "text/x-python",
   "name": "python",
   "nbconvert_exporter": "python",
   "pygments_lexer": "ipython3",
   "version": "3.11.5"
  }
 },
 "nbformat": 4,
 "nbformat_minor": 2
}
